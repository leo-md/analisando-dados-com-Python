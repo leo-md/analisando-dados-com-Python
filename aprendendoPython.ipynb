{
 "cells": [
  {
   "cell_type": "markdown",
   "metadata": {
    "tags": []
   },
   "source": [
    "# Aprendendo Marketing com Python"
   ]
  },
  {
   "cell_type": "code",
   "execution_count": 1,
   "metadata": {},
   "outputs": [],
   "source": [
    "#importando as bibliotecas necessárias\n",
    "import pandas as pd"
   ]
  },
  {
   "cell_type": "markdown",
   "metadata": {
    "tags": []
   },
   "source": [
    "# Desafio Engenharia de Dados de Marketin Digital"
   ]
  },
  {
   "cell_type": "markdown",
   "metadata": {
    "tags": []
   },
   "source": [
    "O gestor de marketing da sua empresa gostaria de avaliar o desempenho dos anuncios de alguns produtos específicos considerando métricas amplamente utilizados no mercado. Ele vai precisar fazer um estudo considerando os **dados brutos** fornecidos pela plataforma de gerenciamento de campanhas e cabe a você a missão de desenvolver a automatização do tratamento desses dados, bem como o cálculo das métricas de avaliação de desempenho, como por exemplo o **Custo por Click**, o **Ticket Médio** e a **Taxa de Conversão**. Ele espera, com isso, poder direcionar melhor os recursos do cliente para estratégias de anuncios com maior probabilidade de contratação, melhorando assim a eficácia da campanha.\n",
    "\n",
    "\n"
   ]
  },
  {
   "cell_type": "markdown",
   "metadata": {
    "tags": []
   },
   "source": [
    "# Bases de Dados Brutos"
   ]
  },
  {
   "cell_type": "markdown",
   "metadata": {},
   "source": [
    "|Arquivo|Nome|Descrição|\n",
    "|---|---|---|\n",
    "|basePreClick.csv|Dados Pré-click|Esse arquivo CVS apresenta as colunas pré-click de cada campanha: Campaign Name, Investment, Impressions e Clicks|\n",
    "|basePosClick.csv|Dados Pós-click|Esse arquivo CVS apresenta as colunas pós-click de cada campanha: Campaign Name, Sessions, Transactions e Revenue|\n"
   ]
  },
  {
   "cell_type": "markdown",
   "metadata": {
    "jp-MarkdownHeadingCollapsed": true,
    "tags": []
   },
   "source": [
    "# Exercício 1 - Primeiros atributos da Tabela Base Analítica (ABT)"
   ]
  },
  {
   "cell_type": "markdown",
   "metadata": {},
   "source": [
    "Criar um DataFrame chamado exercicio1 com os seguintes atributos:\n",
    "    \n",
    "|Nome Lógico|Formato|Descrição|Aceita Nulos|Tabela Origem|Atributo Origem|\n",
    "|---|---|---|---|---|---|\n",
    "|Campanha|OBJECT|Nome da Campanha|Não|basePreClick.csv|Campaign Name|\n",
    "|Investimento|Float64|Refere-se à quantia de dinheiro gasto em uma determinada campanha de marketing.O investimento é uma métrica crítica para avaliar o custo efetivo de uma campanha.|Não|basePreClick.csv|Investment|\n",
    "|Impressões|Int64|No contexto de marketing online, \"impressões\" referem-se ao número de vezes que um anúncio é exibido em uma página da web, aplicativo ou em outro local online. Essa métrica é usada para avaliar a visibilidade e a exposição de um anúncio, indicando quantas vezes ele foi potencialmente visto pelo público-alvo.|Não|basePreClick.csv|Impressions|\n",
    "|Cliks|Int64|Indica o número de vezes que os usuários clicaram no anúncio durante uma campanha. Esse dado é importante para medir o engajamento do público-alvo com o conteúdo publicitário. Cliques podem ser um indicador de interesse ou intenção por parte dos usuários, mas é importante analisá-los em conjunto com outras métricas para entender melhor o desempenho global da campanha.|Não|basePreClick.csv|Clicks|\n",
    "\n",
    "\n",
    "**Dica 1:** Ao final do exercício, o DataFrame exercicio1 deverá conter apenas os atributos listados acima, nessa ordem."
   ]
  },
  {
   "cell_type": "code",
   "execution_count": 2,
   "metadata": {
    "scrolled": true
   },
   "outputs": [],
   "source": [
    "#carregando da base basePreClick.csv pelo método do Pandas read_csv()"
   ]
  },
  {
   "cell_type": "code",
   "execution_count": 3,
   "metadata": {},
   "outputs": [],
   "source": [
    "#Ajustando o nome de cada coluna pelo método rename():"
   ]
  },
  {
   "cell_type": "code",
   "execution_count": 4,
   "metadata": {},
   "outputs": [],
   "source": [
    "#Para ajustar o tipo de cada coluna, primeiro precisamos eliminar a ',' dos valores pelo metodo replace()"
   ]
  },
  {
   "cell_type": "code",
   "execution_count": 5,
   "metadata": {},
   "outputs": [],
   "source": [
    "#Ajustando o tipo de cada coluna, agora que eliminamos a ',' do atributo, já conseguimos alterar o formato dos dados."
   ]
  },
  {
   "cell_type": "code",
   "execution_count": 6,
   "metadata": {},
   "outputs": [],
   "source": [
    "#Criando um dataframe exercicio1 pelo metodo copy() que mantem a indegridade da base original"
   ]
  },
  {
   "cell_type": "markdown",
   "metadata": {
    "tags": []
   },
   "source": [
    "# Exercício 2 - Calculando as métricas pré-click derivadas"
   ]
  },
  {
   "cell_type": "markdown",
   "metadata": {},
   "source": [
    "Criar um DataFrame chamado exercicio2, a partir de uma copia do exercicio1 e adicionando os seguintes atributos:\n",
    "\n",
    "|Nome Lógico|Formato|Descrição|Aceita Nulos|\n",
    "|---|---|---|---|\n",
    "|CTR (%)|Float64|CTR significa \"Click-Through Rate\" (Taxa de Cliques, em português). É uma métrica que mede a eficácia de uma campanha de marketing digital, especialmente em anúncios online. É calculada dividindo-se o número de clickes pelo número de impressões, multiplicado por 100. A CTR é frequentemente usada para avaliar a relevância e o interesse do público em relação a um determinado anúncio.|Não|\n",
    "|CPC|Float64|No marketing online, CPC significa \"Cost Per Click\" (Custo por Clique, em português). É uma métrica que representa o custo médio que um anunciante paga cada vez que alguém clica no seu anúncio. É calculada dividindo-se o custo total da campanha pelo número clickes.Essa métrica é valiosa para os profissionais de marketing, pois fornece uma compreensão direta do custo associado a cada interação potencial com o anúncio.|Não|\n",
    "|CPM|Float64|O CPM, ou \"Cost Per Mille\" (Custo por Mil impressões, em português), é outra métrica importante no marketing online. Ao contrário do CPC, que se baseia no custo por clique, o CPM é uma medida do custo por mil impressões de um anúncio.É calculada dividindo-se o custo total da campanha pelo número de impressões, multiplicando por 1.000 Assim, o CPM representa o custo associado a mil impressões do anúncio, independentemente de quantos cliques ele recebe. O CPM é frequentemente usado em campanhas de publicidade em que o objetivo principal é alcançar uma ampla audiência, mesmo que nem todos os espectadores cliquem no anúncio.|Não|\n",
    "\n",
    "**Dica:** Antes de efetuar qualquer transformação nos dados, crie uma copia do DataFrame exercicio1 pelo método copy(). isso irá garantir que as alterações da copia não irão interferir nos dados da base original."
   ]
  },
  {
   "cell_type": "code",
   "execution_count": 7,
   "metadata": {},
   "outputs": [],
   "source": [
    "#Primeiro criamos o exercicio2 com base no método copy(), para manter a integridade de exercicio1"
   ]
  },
  {
   "cell_type": "code",
   "execution_count": 8,
   "metadata": {},
   "outputs": [],
   "source": [
    "#Incluindo o atributo CTR"
   ]
  },
  {
   "cell_type": "code",
   "execution_count": 9,
   "metadata": {},
   "outputs": [],
   "source": [
    "#Ajustando o número de casas decimais pelo método round()"
   ]
  },
  {
   "cell_type": "code",
   "execution_count": 10,
   "metadata": {},
   "outputs": [],
   "source": [
    "#Incluindo o atributo CPC e ajustando o número de casas decimais no mesmo comando"
   ]
  },
  {
   "cell_type": "code",
   "execution_count": 11,
   "metadata": {},
   "outputs": [],
   "source": [
    "#Incluindo o atributo CPM e ajustando o número de casas decimais no mesmo comando"
   ]
  },
  {
   "cell_type": "markdown",
   "metadata": {
    "tags": []
   },
   "source": [
    "# Exercício 3 - Carregando uma nova base de dados"
   ]
  },
  {
   "cell_type": "markdown",
   "metadata": {},
   "source": [
    "Criar um DataFrame chamado exercicio3 com os seguintes atributos:\n",
    "    \n",
    "|Nome Lógico|Formato|Descrição|Aceita Nulos|Tabela Origem|Atributo Origem|\n",
    "|---|---|---|---|---|---|\n",
    "|Campanha|OBJECT|Nome da Campanha|Não|basePosClick.csv|Campaign Name|\n",
    "|Sessões|Int64|Referem-se ao número de interações ou visitas únicas que usuários fazem em um site durante um determinado período de tempo. Uma sessão começa quando um usuário acessa o site e termina após um período de inatividade ou quando o usuário fecha o navegador.|Não|basePosClick.csv|Sessions|\n",
    "|Transações|Int64|Ações específicas realizadas por usuários em um site e que resultam em uma conversão mensurável. Essas transações geralmente estão associadas a atividades de comércio eletrônico, onde os usuários realizam a compra de produtos ou serviços online.|Não|basePosClick.csv|Transactions|\n",
    "|Receita|Float64|Na esfera didital, \"receita\" refere-se à quantidade total de dinheiro gerada por um site ou plataforma online a partir de diversas fontes, como vendas de produtos, assinaturas, publicidade, entre outras. A receita é uma métrica crítica que reflete o sucesso financeiro de uma empresa.|Não|basePosClick.csv|Revenue|\n",
    "\n",
    "\n",
    "**Dica 1:** Ao final do exercício, o DataFrame exercicio3 deverá conter apenas os atributos listados acima, nessa ordem."
   ]
  },
  {
   "cell_type": "code",
   "execution_count": 12,
   "metadata": {},
   "outputs": [],
   "source": [
    "#carregando da base basePreClick.csv pelo método do Pandas read_csv()"
   ]
  },
  {
   "cell_type": "code",
   "execution_count": 13,
   "metadata": {},
   "outputs": [],
   "source": [
    "#Ajustando o nome de cada coluna pelo método rename():"
   ]
  },
  {
   "cell_type": "code",
   "execution_count": 14,
   "metadata": {},
   "outputs": [],
   "source": [
    "#Ajustando o tipo de cada coluna, primeiro precisamos eliminar a ',' dos valores"
   ]
  },
  {
   "cell_type": "code",
   "execution_count": 15,
   "metadata": {},
   "outputs": [],
   "source": [
    "#Ajustando o tipo de cada coluna, agora que eliminamos a ',' do atributo, já conseguimos alterar o formato dos dados."
   ]
  },
  {
   "cell_type": "code",
   "execution_count": 16,
   "metadata": {},
   "outputs": [],
   "source": [
    "#Criando um dataframe exercicio3 pelo metodo copy() que mantem a indegridade da base original"
   ]
  },
  {
   "cell_type": "markdown",
   "metadata": {
    "tags": []
   },
   "source": [
    "# Exercício 4 - Unindo DataFrames"
   ]
  },
  {
   "cell_type": "markdown",
   "metadata": {},
   "source": [
    "Crie o DataFrame exercicio4 com base na união dos DataFrames exercicio2 e exercicio3, de modo a adicionar os atributos brutos pós click ao ATB.\n",
    "\n",
    "**Dica 1:** Tenha o cuidado de manter a fidelidade dos dados usando o atributo **Campanha** como coluna chave da junção."
   ]
  },
  {
   "cell_type": "code",
   "execution_count": 17,
   "metadata": {},
   "outputs": [],
   "source": [
    "#Primeiro criamos o exercicio4 com base no método copy(), para manter a integridade de exercicio2"
   ]
  },
  {
   "cell_type": "code",
   "execution_count": 18,
   "metadata": {},
   "outputs": [],
   "source": [
    "#Unindo os dataframes exercicio4 e exercicio3 utilizando o método merge()"
   ]
  },
  {
   "cell_type": "markdown",
   "metadata": {
    "tags": []
   },
   "source": [
    "# Exercício 5 - Calculando as métricas pós-click derivadas"
   ]
  },
  {
   "cell_type": "markdown",
   "metadata": {},
   "source": [
    "Criar um DataFrame chamado exercicio5, a partir de uma copia do exercicio4 e adicionando os seguintes atributos:\n",
    "\n",
    "|Nome Lógico|Formato|Descrição|Aceita Nulos|\n",
    "|---|---|---|---|\n",
    "|CPA|Float64|No contexto de marketing online, CPA significa \"Cost Per Acquisition\" (Custo por Aquisição, em português). É uma métrica que mede o custo médio que um anunciante paga para adquirir um cliente ou uma conversão específica, como uma venda, inscrição, download de aplicativo, entre outros. A fórmula básica para calcular o CPA é dividir o custo total da campanha pelo número de aquisições, Transações no caso da nossa tabela. O CPA é uma métrica importante para anunciantes, pois ajuda a avaliar o desempenho financeiro de uma campanha de marketing e a determinar a eficácia dos gastos em publicidade.|Não|-|\n",
    "|Taxa de Conversão (%)|Float64|A Taxa de Conversão é uma métrica que mede a eficácia de uma campanha ao rastrear o número de visitantes ou usuários que realizam uma ação desejada em relação ao número total de visitantes. Essa ação desejada pode variar dependendo dos objetivos da campanha e do tipo de negócio, e geralmente inclui atividades como fazer uma compra, preencher um formulário, se inscrever em uma newsletter, entre outros.  É calculada dividindo-se o número de Transações pelo número de Sessões, multiplicado por 100. Essa métrica é expressa como uma porcentagem e fornece uma visão direta da eficácia de uma campanha em transformar visitantes em ações desejadas. |Não|\n",
    "|Ticket Médio|Float64|O Ticket Médio é uma métrica financeira que representa o valor médio gasto por cliente em uma determinada transação ou durante um período específico de tempo. É calculada dividindo-se a Receita total da campanha pelo número de transações realizadasEssa métrica é expressa em termos monetários e fornece informações valiosas sobre o valor médio que um cliente gasta ao realizar uma compra. Um aumento no Ticket Médio geralmente é considerado positivo, pois indica que os clientes estão gastando mais em cada transação.|Não|\n",
    "|ROI|Float64|ROI, ou \"Return on Investment\" (Retorno sobre o Investimento, em português), é uma métrica financeira que calcula o desempenho relativo de um investimento em termos de retorno financeiro. Essa métrica é amplamente utilizada em diversas áreas, incluindo marketing, finanças e negócios. No contexto do marketing, o ROI é frequentemente usado para avaliar o desempenho de campanhas publicitárias, estratégias de marketing digital ou iniciativas de vendas. Aqui o ROI é obtido dividindo-se a Receita todal da campanha pelo valor investido.O ROI é uma métrica valiosa para a tomada de decisões estratégicas, pois permite que as empresas avaliem a eficácia de seus investimentos e aloquem recursos de maneira mais eficiente.|Não|\n",
    "\n"
   ]
  },
  {
   "cell_type": "code",
   "execution_count": 19,
   "metadata": {},
   "outputs": [],
   "source": [
    "#Primeiro criamos o exercicio5 com base no método copy(), para manter a integridade de exercicio4"
   ]
  },
  {
   "cell_type": "code",
   "execution_count": 20,
   "metadata": {},
   "outputs": [],
   "source": [
    "#Incluindo o atributo CPA"
   ]
  },
  {
   "cell_type": "code",
   "execution_count": 21,
   "metadata": {},
   "outputs": [],
   "source": [
    "#Incluindo o atributo Taxa de Conversão (%)"
   ]
  },
  {
   "cell_type": "code",
   "execution_count": 22,
   "metadata": {
    "scrolled": true
   },
   "outputs": [],
   "source": [
    "#Incluindo o atributo Ticket Médio"
   ]
  },
  {
   "cell_type": "code",
   "execution_count": 23,
   "metadata": {},
   "outputs": [],
   "source": [
    "#Incluindo o atributo Ticket Médio"
   ]
  },
  {
   "cell_type": "markdown",
   "metadata": {
    "tags": []
   },
   "source": [
    "# Tabela Analítica Final"
   ]
  },
  {
   "cell_type": "markdown",
   "metadata": {},
   "source": [
    "Hora de finalizarmos nosso trabalho!\n",
    "\n",
    "Crie o DataFrame ATB_Final que será apresentada ao seu Gestor de Marketing a partir de uma cópia do exercicio5."
   ]
  },
  {
   "cell_type": "code",
   "execution_count": 24,
   "metadata": {},
   "outputs": [],
   "source": [
    "#Criamos o DataFrame ATB_Final com base no método copy(), para manter a integridade de exercicio5"
   ]
  },
  {
   "cell_type": "markdown",
   "metadata": {},
   "source": [
    "# Promovendo os ajustes finais"
   ]
  },
  {
   "cell_type": "markdown",
   "metadata": {},
   "source": [
    "Seu gerente ficou bastante satisfeito com o resultado, principalmente pela automação do cálculo das métricas, mas ele faz uma sugestão final. Ele acha que a apresentação da tabela ficaria melhor se fosse ordenada pelo atributo **ROI**, de forma decrescente e ulitilzando a coluna **Receita** como critério de desempate. Nesse sentido, as campanhas de maior sucesso relativo e absoluto ficariam no topo da tabela.\n",
    "\n",
    "Sorte que o Python possui uma metodologia própria para isso. Dessa forma, conseguimos incluir a automação dessa preferência já no nosso script."
   ]
  },
  {
   "cell_type": "code",
   "execution_count": 25,
   "metadata": {},
   "outputs": [],
   "source": [
    "#Usamos o método sort_values que ordena as campanhas da tabela respeitando uma diretriz"
   ]
  }
 ],
 "metadata": {
  "kernelspec": {
   "display_name": "Python 3 (ipykernel)",
   "language": "python",
   "name": "python3"
  },
  "language_info": {
   "codemirror_mode": {
    "name": "ipython",
    "version": 3
   },
   "file_extension": ".py",
   "mimetype": "text/x-python",
   "name": "python",
   "nbconvert_exporter": "python",
   "pygments_lexer": "ipython3",
   "version": "3.10.9"
  }
 },
 "nbformat": 4,
 "nbformat_minor": 4
}
